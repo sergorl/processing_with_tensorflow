{
 "cells": [
  {
   "cell_type": "code",
   "execution_count": null,
   "metadata": {},
   "outputs": [],
   "source": [
    "import tensorflow as tf\n",
    "import time\n",
    "import pandas as pd\n",
    "import numpy as np"
   ]
  },
  {
   "cell_type": "markdown",
   "metadata": {},
   "source": [
    "### Balance, encode and decode classes"
   ]
  },
  {
   "cell_type": "code",
   "execution_count": null,
   "metadata": {
    "collapsed": true
   },
   "outputs": [],
   "source": [
    "# Balance count fof classes\n",
    "def balance(dataset, opt='Y'):\n",
    "    \n",
    "    groups  = dataset.groupby(opt)\n",
    "    dataset = groups.apply(lambda g: g.sample(groups.size().min())).reset_index(drop=True)\n",
    "    \n",
    "    return dataset    \n",
    "\n",
    "# Class labels have a white spaces, so let's do an encoder-function ...\n",
    "def encode(dataset):\n",
    "\n",
    "    N = dataset.shape[0]\n",
    "\n",
    "    for i in range(N):\n",
    "\n",
    "        label = dataset.at[i, 'Y']\n",
    "\n",
    "        if 7 < label < 53:\n",
    "            dataset.set_value(i, 'Y', label - 1)\n",
    "            continue\n",
    "\n",
    "        if 52 < label < 62:\n",
    "            dataset.set_value(i, 'Y', label - 3)\n",
    "            continue\n",
    "\n",
    "        if 61 < label:\n",
    "            dataset.set_value(i, 'Y', label - 4)\n",
    "            continue\n",
    "            \n",
    "# ... and decoder-function           \n",
    "def decode(dataset):    \n",
    "    \n",
    "    N = dataset.shape[0]\n",
    "\n",
    "    for i in range(N):\n",
    "        \n",
    "        label = dataset.at[i, 'Y']\n",
    "        \n",
    "        if 8 <= label < 52:\n",
    "            dataset.set_value(i, 'Y', label + 1)\n",
    "            continue\n",
    "\n",
    "        if 52 <= label < 59:\n",
    "            dataset.set_value(i, 'Y', label + 3)\n",
    "            continue\n",
    "\n",
    "        if 59 <= label:\n",
    "            dataset.set_value(i, 'Y', label + 4)  \n",
    "            continue"
   ]
  },
  {
   "cell_type": "markdown",
   "metadata": {},
   "source": [
    "### Read dataset from file and process it"
   ]
  },
  {
   "cell_type": "code",
   "execution_count": null,
   "metadata": {},
   "outputs": [],
   "source": [
    "data_train = pd.read_csv('.\\\\dataset_train.csv')\n",
    "\n",
    "# Apply the encoder-function to labels of train dataset            \n",
    "encode(data_train)\n",
    "\n",
    "class_labels = data_train['Y'].drop_duplicates()\n",
    "\n",
    "print('After map max class label is %d' % class_labels.max())\n",
    "print('After map min class label is %d' % class_labels.min())\n",
    "# print('All class labels:\\n', class_labels.sort_values())\n",
    "\n",
    "data_train = data_train.drop(data_train[data_train.Feat1 > 0.1].index)\n",
    "data_train = data_train.drop(data_train[data_train.Feat2 > 0.1].index)\n",
    "\n",
    "# Balance dataset\n",
    "data_train = balance(data_train).reset_index(drop=True)"
   ]
  },
  {
   "cell_type": "markdown",
   "metadata": {},
   "source": [
    "### Create net configuration for classifying task"
   ]
  },
  {
   "cell_type": "code",
   "execution_count": null,
   "metadata": {
    "collapsed": true
   },
   "outputs": [],
   "source": [
    "def net(size_input, size_output):\n",
    "\n",
    "    x      = tf.placeholder(tf.float64, (None, size_input), name=\"x\")\n",
    "    labels = tf.placeholder(tf.float64, (None, size_output))\n",
    "\n",
    "    sigma, bias, k = 0.1, 0.5, 10\n",
    "\n",
    "    w1 = tf.Variable(tf.truncated_normal((size_input,      k     ), stddev=sigma, dtype=tf.float64))\n",
    "    w2 = tf.Variable(tf.truncated_normal((k,               k     ), stddev=sigma, dtype=tf.float64))\n",
    "    w3 = tf.Variable(tf.truncated_normal((k,          size_output), stddev=sigma, dtype=tf.float64))\n",
    "    \n",
    "    b1 = tf.Variable(bias * tf.ones((1,      k     ), dtype=tf.float64))\n",
    "    b2 = tf.Variable(bias * tf.ones((1,      k     ), dtype=tf.float64))\n",
    "    b3 = tf.Variable(bias * tf.ones((1, size_output), dtype=tf.float64))\n",
    "\n",
    "    y1 = tf.tanh   (tf.matmul(x,   w1) + b1)\n",
    "    y2 = tf.nn.relu(tf.matmul(y1,  w2) + b2)\n",
    "    y3 =            tf.matmul(y2,  w3) + b3\n",
    "    \n",
    "    out = tf.nn.softmax(y3, name=\"y\") \n",
    "            \n",
    "    loss  = tf.reduce_mean(tf.nn.softmax_cross_entropy_with_logits_v2(labels=labels, logits=y3))\n",
    "        \n",
    "    reg   = tf.cast(tf.get_collection(tf.GraphKeys.REGULARIZATION_LOSSES), tf.float64)\n",
    "    loss += 0.1 * tf.reduce_sum(reg)\n",
    "    \n",
    "    correct_prediction = tf.equal(tf.argmax(out, axis=1), tf.argmax(labels, axis=1))\n",
    "    accuracy           = tf.reduce_mean(tf.cast(correct_prediction, tf.float64))\n",
    "    \n",
    "    right = tf.argmax(labels, axis=1)\n",
    "    \n",
    "    return x, labels, out, loss, accuracy, right"
   ]
  },
  {
   "cell_type": "markdown",
   "metadata": {},
   "source": [
    "###  Functions to train net"
   ]
  },
  {
   "cell_type": "code",
   "execution_count": null,
   "metadata": {
    "collapsed": true
   },
   "outputs": [],
   "source": [
    "def normalization(datasеt):\n",
    "        \n",
    "        rows, cols = datasеt.shape\n",
    "                \n",
    "        datasеt   -= np.matlib.repmat(np.mean(datasеt, axis=1).reshape((rows, 1)), 1, cols) \n",
    "        datasеt   /= (np.matlib.repmat(np.std(datasеt, axis=1).reshape((rows, 1)), 1, cols) + 1e-12)\n",
    "        datasеt   += np.random.normal(0, 1e-6, (rows, cols)) \n",
    "        \n",
    "        return datasеt\n",
    "\n",
    "    \n",
    "def train_net(dataset, num_class, size_input, size_batch, num_steps, rate_learn, init_rate, file_for_save):\n",
    "        \n",
    "    x, labels, out, loss, accuracy, right = net(size_input, num_class)     \n",
    "\n",
    "    # Gradient optimization\n",
    "    train_step = tf.train.AdagradOptimizer(rate_learn, initial_accumulator_value=init_rate).minimize(loss)\n",
    "#     train_step = tf.train.GradientDescentOptimizer(rate_learn).minimize(y)\n",
    "#     train_step = tf.train.AdadeltaOptimizer(rate_learn, rho=0.9).minimize(y)\n",
    "\n",
    "    # To save model and count time of training\n",
    "    saver, start = tf.train.Saver(), time.time()\n",
    "                  \n",
    "    def make_batch_labels(size_batch, num_class, class_labels):\n",
    "                \n",
    "        labels = np.zeros((size_batch, num_class))\n",
    "        \n",
    "        for i, label in enumerate(class_labels):\n",
    "            labels[i, int(label)] = 1\n",
    "            \n",
    "        return labels                     \n",
    "                   \n",
    "    # Open sesssion with tensor math to net training    \n",
    "    with tf.Session() as sess:\n",
    "\n",
    "        sess.run(tf.global_variables_initializer())\n",
    "        \n",
    "        res = tf.argmax(out, axis=1)\n",
    "\n",
    "        for i in range(num_steps):  \n",
    "            \n",
    "            data = dataset.sample(n=size_batch).as_matrix(columns=['Feat1', 'Feat2', 'Feat4', 'Y'])\n",
    "            \n",
    "            batch_labels = make_batch_labels(size_batch, num_class, data[:,-1])              \n",
    "\n",
    "#             batch_train = normalization(data[:, 0:3])\n",
    "            batch_train = data[:, 0:3]\n",
    "                                                                      \n",
    "            precision, error, results, rightval, _  = sess.run([accuracy, \n",
    "                                                                loss, \n",
    "                                                                res, \n",
    "                                                                right, \n",
    "                                                                train_step], \n",
    "                                                                feed_dict={x:      batch_train, \n",
    "                                                                           labels: batch_labels})  \n",
    "            \n",
    "            print(results)\n",
    "            print(\"Accuracy: %.2f %%; loss: %.4f; progress: %.2f %%\" % (precision*100, error, 100*i/num_steps))\n",
    "\n",
    "        finish = time.time()\n",
    "\n",
    "        # Save model as graph\n",
    "        save_path = saver.save(sess, file_for_save + \".ckpt\", meta_graph_suffix='meta', write_meta_graph=True)\n",
    "        print(\"Net model is saved to file: %s\" % save_path)\n",
    "\n",
    "    print(\"Training is finished by %.2f s\" % (finish - start))    "
   ]
  },
  {
   "cell_type": "code",
   "execution_count": null,
   "metadata": {},
   "outputs": [],
   "source": [
    "# Run net training\n",
    "train_net(data_train, num_class=60, \n",
    "          size_input=3, size_batch=100, num_steps=10000, \n",
    "          rate_learn=0.5, init_rate=0.1, \n",
    "          file_for_save=\".\\\\net_1\")"
   ]
  },
  {
   "cell_type": "markdown",
   "metadata": {},
   "source": [
    "### Net processing"
   ]
  },
  {
   "cell_type": "code",
   "execution_count": null,
   "metadata": {
    "collapsed": true
   },
   "outputs": [],
   "source": [
    "def run_net(dataset, size_batch, file_name_net):\n",
    "    \n",
    "    rows      = dataset.shape[0]\n",
    "    num_batch = int(np.ceil(rows/size_batch))\n",
    "    \n",
    "    predict = np.zeros(rows)    \n",
    "\n",
    "    # Recover net model from graph, so create this recovering graрh ...\n",
    "    graph = tf.Graph()\n",
    "\n",
    "    # ... and fill graph to recover\n",
    "    with graph.as_default():\n",
    "\n",
    "        saver = tf.train.import_meta_graph(file_name_net + \".ckpt.meta\")\n",
    "               \n",
    "        # Open sesssion to tensor math    \n",
    "        with tf.Session() as sess:\n",
    "            \n",
    "            x = sess.graph.get_tensor_by_name(\"x:0\")\n",
    "            y = sess.graph.get_tensor_by_name(\"y:0\")\n",
    "                        \n",
    "            num_class = int(y.shape[1])\n",
    "            \n",
    "            # Convert one hot encoding to integer class label\n",
    "            out = tf.argmax(y, axis=1)\n",
    "            \n",
    "            saver.restore(sess, file_name_net + \".ckpt\")\n",
    "            \n",
    "            start = time.time()\n",
    "\n",
    "            for i in range(num_batch):\n",
    "                \n",
    "                ind1, ind2 = int(i*size_batch), int((i+1)*size_batch)\n",
    "                \n",
    "                features = dataset[ind1:ind2].as_matrix(columns=['Feat1', 'Feat2', 'Feat4'])   \n",
    "                 \n",
    "                batch    = normalization(features)\n",
    "                                                                              \n",
    "                results = sess.run(out, feed_dict={x: batch}) \n",
    "                                \n",
    "                predict[ind1:ind2] = results\n",
    "\n",
    "                print(\"Net progress ... %.1f %%\" % (100*i/num_batch))                                      \n",
    "                \n",
    "        finish = time.time() \n",
    "        print(\"Net processing is finished in %.2f s\" % (finish - start))  \n",
    "\n",
    "    return predict"
   ]
  },
  {
   "cell_type": "code",
   "execution_count": null,
   "metadata": {
    "collapsed": true
   },
   "outputs": [],
   "source": [
    "# Let's run net to classify\n",
    "predict = run_net(data_train, size_batch=100, file_name_net='.\\\\net_1')"
   ]
  },
  {
   "cell_type": "code",
   "execution_count": null,
   "metadata": {
    "collapsed": true
   },
   "outputs": [],
   "source": [
    "# Sort test dataset by Node and save result of classifying to file \n",
    "\n",
    "def sort_by(dataset, by):\n",
    "    \n",
    "    dataset = dataset.sort_values(by=[by])        \n",
    "    dataset = dataset.reset_index(drop=True) \n",
    "    \n",
    "    return dataset   \n",
    "\n",
    "file_name_to_save = 'results.csv'\n",
    "\n",
    "results = pd.DataFrame({'Node': data_train['Node'], 'Y': predict})\n",
    "results = sort_by(results, by='Node')\n",
    "\n",
    "# Decode class labels\n",
    "decode(results)\n",
    "\n",
    "print(results)\n",
    "\n",
    "results.to_csv('.\\\\' + file_name_to_save, index=False)\n"
   ]
  },
  {
   "cell_type": "code",
   "execution_count": null,
   "metadata": {
    "collapsed": true
   },
   "outputs": [],
   "source": []
  }
 ],
 "metadata": {
  "kernelspec": {
   "display_name": "Python 3",
   "language": "python",
   "name": "python3"
  },
  "language_info": {
   "codemirror_mode": {
    "name": "ipython",
    "version": 3
   },
   "file_extension": ".py",
   "mimetype": "text/x-python",
   "name": "python",
   "nbconvert_exporter": "python",
   "pygments_lexer": "ipython3",
   "version": "3.6.3"
  }
 },
 "nbformat": 4,
 "nbformat_minor": 2
}
